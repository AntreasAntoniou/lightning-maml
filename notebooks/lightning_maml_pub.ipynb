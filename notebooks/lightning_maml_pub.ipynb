{
  "nbformat": 4,
  "nbformat_minor": 0,
  "metadata": {
    "colab": {
      "name": "lightning-maml-pub.ipynb",
      "provenance": [],
      "collapsed_sections": []
    },
    "kernelspec": {
      "name": "python3",
      "display_name": "Python 3"
    },
    "accelerator": "GPU"
  },
  "cells": [
    {
      "cell_type": "code",
      "metadata": {
        "id": "V4vdVpsXiFJv"
      },
      "source": [
        "!nvidia-smi"
      ],
      "execution_count": null,
      "outputs": []
    },
    {
      "cell_type": "code",
      "metadata": {
        "id": "o4PKFw3482b2"
      },
      "source": [
        "%%capture\n",
        "!pip install torch torchvision higher hydra-core python-dotenv pytorch-lightning torchmeta wandb"
      ],
      "execution_count": null,
      "outputs": []
    },
    {
      "cell_type": "code",
      "metadata": {
        "id": "cH5RUiZL9YRs"
      },
      "source": [
        "!git clone https://github.com/rcmalli/lightning-maml.git"
      ],
      "execution_count": null,
      "outputs": []
    },
    {
      "cell_type": "code",
      "metadata": {
        "id": "sMEe3z069Zqj"
      },
      "source": [
        "!cd /content/lightning-maml && git pull"
      ],
      "execution_count": null,
      "outputs": []
    },
    {
      "cell_type": "code",
      "metadata": {
        "id": "RDo19kj89fCs"
      },
      "source": [
        "%cd /content/lightning-maml/"
      ],
      "execution_count": null,
      "outputs": []
    },
    {
      "cell_type": "code",
      "metadata": {
        "id": "Yfn8iLc_BEl8"
      },
      "source": [
        "%%writefile .env\n",
        "DATASET_PATH=\"/content/dataset\""
      ],
      "execution_count": null,
      "outputs": []
    },
    {
      "cell_type": "code",
      "metadata": {
        "id": "HwvOFsMv9mw1"
      },
      "source": [
        "!python3 src/run.py train.pl_trainer.gpus=1 train.pl_trainer.max_epochs=50 core.tags=['maml','debug']"
      ],
      "execution_count": null,
      "outputs": []
    },
    {
      "cell_type": "code",
      "metadata": {
        "id": "Qc4tDtTO9qh2"
      },
      "source": [
        ""
      ],
      "execution_count": null,
      "outputs": []
    }
  ]
}